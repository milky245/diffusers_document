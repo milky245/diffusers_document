{
 "cells": [
  {
   "cell_type": "code",
   "execution_count": 1,
   "metadata": {},
   "outputs": [],
   "source": [
    "# Stable Diffusion is a text-to-image latent diffusion model. \n",
    "# It is called a latent diffusion model because it works with \n",
    "# a lower-dimensional representation of the image instead of \n",
    "# the actual pixel space, which makes it more memory efficient.\n",
    "# The encoder compresses the image into a smaller representation,\n",
    "# and a decoder to convert the compressed representation back \n",
    "# into an image. For text-to-image models, you’ll need a \n",
    "# tokenizer and an encoder to generate text embeddings. From \n",
    "# the previous example, you already know you need a UNet model \n",
    "# and a scheduler.\n",
    "\n",
    "#this is already more complex than the DDPM pipeline which only contains a UNet model. \n",
    "#The Stable Diffusion model has three separate pretrained models.\n",
    "\n",
    "#You can find them in the pretrained \n",
    "# runwayml/stable-diffusion-v1-5 checkpoint, \n",
    "# and each component is stored in a separate subfolder\n",
    "# import os\n",
    "# os.environ[\"PYTORCH_ENABLE_MPS_FALLBACK\"] = \"1\""
   ]
  },
  {
   "cell_type": "code",
   "execution_count": 2,
   "metadata": {},
   "outputs": [
    {
     "name": "stderr",
     "output_type": "stream",
     "text": [
      "/opt/anaconda3/envs/diff/lib/python3.8/site-packages/tqdm/auto.py:21: TqdmWarning: IProgress not found. Please update jupyter and ipywidgets. See https://ipywidgets.readthedocs.io/en/stable/user_install.html\n",
      "  from .autonotebook import tqdm as notebook_tqdm\n",
      "/opt/anaconda3/envs/diff/lib/python3.8/site-packages/diffusers/models/transformers/transformer_2d.py:34: FutureWarning: `Transformer2DModelOutput` is deprecated and will be removed in version 1.0.0. Importing `Transformer2DModelOutput` from `diffusers.models.transformer_2d` is deprecated and this will be removed in a future version. Please use `from diffusers.models.modeling_outputs import Transformer2DModelOutput`, instead.\n",
      "  deprecate(\"Transformer2DModelOutput\", \"1.0.0\", deprecation_message)\n"
     ]
    }
   ],
   "source": [
    "from PIL import Image\n",
    "import torch\n",
    "from transformers import CLIPTextModel, CLIPTokenizer\n",
    "from diffusers import AutoencoderKL, UNet2DConditionModel, PNDMScheduler\n",
    "\n",
    "vae=AutoencoderKL.from_pretrained(\"CompVis/stable-diffusion-v1-4\", subfolder=\"vae\", use_safetensors=True)\n",
    "tokenizer=CLIPTokenizer.from_pretrained(\"CompVis/stable-diffusion-v1-4\", subfolder=\"tokenizer\")\n",
    "text_encoder=CLIPTextModel.from_pretrained(\"CompVis/stable-diffusion-v1-4\", subfolder=\"text_encoder\", use_safetensors=True)\n",
    "unet=UNet2DConditionModel.from_pretrained(\"CompVis/stable-diffusion-v1-4\", subfolder=\"unet\", use_safetensors=True)"
   ]
  },
  {
   "cell_type": "code",
   "execution_count": 3,
   "metadata": {},
   "outputs": [],
   "source": [
    "#instead of default PNDMscheduler, exchange it for the UniPCMultistepScheduler\n",
    "from diffusers import UniPCMultistepScheduler\n",
    "scheduler=UniPCMultistepScheduler.from_pretrained(\"CompVis/stable-diffusion-v1-4\", subfolder=\"scheduler\")\n",
    "\n",
    "# torch_device=\"mps\" if torch.backends.mps.is_available() else \"cpu\"\n",
    "# print(torch_device)\n",
    "torch_device=\"cpu\"\n",
    "vae.to(torch_device)\n",
    "text_encoder.to(torch_device)\n",
    "unet.to(torch_device)\n",
    "\n",
    "#next step is to tokenize the text to generate embeddings. \n",
    "# The text is used to condition the UNet model and steer \n",
    "# the diffusion process towards something that resembles \n",
    "# the input prompt.\n",
    "\n",
    "#guidance_scale parameter determines how much weight should \n",
    "#be given to the prompt when generating the image.\n",
    "\n",
    "prompt=[\"a photograph of a little cat on sofa\"]\n",
    "height=512\n",
    "width=512\n",
    "num_inference_steps=25\n",
    "guidance_scale=7.5\n",
    "generator=torch.manual_seed(0)\n",
    "batch_size=len(prompt)\n",
    "\n",
    "text_input=tokenizer(prompt,padding=\"max_length\", max_length=tokenizer.model_max_length,truncation=True, return_tensors=\"pt\")\n",
    "with torch.no_grad():\n",
    "    text_embeddings=text_encoder(text_input.input_ids.to(torch_device))[0]\n",
    "\n",
    "#need to generate the unconditional text embeddings \n",
    "# which are the embeddings for the padding token. \n",
    "max_length=text_input.input_ids.shape[-1]\n",
    "uncond_input=tokenizer(\n",
    "    [\"\"]*batch_size, padding=\"max_length\", max_length=max_length, return_tensors=\"pt\"\n",
    ")\n",
    "uncond_embeddings=text_encoder(uncond_input.input_ids.to(torch_device))[0]\n",
    "\n",
    "#concatenate the conditional and unconditional embeddings \n",
    "# into a batch to avoid doing two forward passes\n",
    "text_embeddings=torch.cat([uncond_embeddings,text_embeddings])"
   ]
  },
  {
   "cell_type": "code",
   "execution_count": 4,
   "metadata": {},
   "outputs": [
    {
     "name": "stderr",
     "output_type": "stream",
     "text": [
      "100%|██████████| 25/25 [01:49<00:00,  4.37s/it]\n"
     ]
    }
   ],
   "source": [
    "#generate some initial random noise as a \n",
    "# starting point for the diffusion process. \n",
    "# This is the latent representation of the image, \n",
    "# and it’ll be gradually denoised\n",
    "if torch_device == \"mps\":\n",
    "    generator = torch.Generator(device=torch_device)\n",
    "else:\n",
    "    generator = torch.Generator()\n",
    "\n",
    "\n",
    "latents = torch.randn(\n",
    "    (batch_size, unet.config.in_channels, height // 8, width // 8),\n",
    "    generator=generator,\n",
    "    device=torch_device,\n",
    ")\n",
    "latents = latents * scheduler.init_noise_sigma\n",
    "#denoising loop needs to do three things:\n",
    "#Set the scheduler’s timesteps to use during denoising.\n",
    "#Iterate over the timesteps.\n",
    "#At each timestep, call the UNet model to predict \n",
    "# the noise residual and pass it to the scheduler \n",
    "# to compute the previous noisy sample.\n",
    "\n",
    "from tqdm.auto import tqdm\n",
    "\n",
    "scheduler.set_timesteps(num_inference_steps)\n",
    "for t in tqdm(scheduler.timesteps):\n",
    "    # expand the latents if we are doing classifier-free guidance \n",
    "    # to avoid doing two forward passes.\n",
    "    latent_model_input=torch.cat([latents]*2)\n",
    "    latent_model_input = scheduler.scale_model_input(latent_model_input, timestep=t)\n",
    "\n",
    "    # predict the noise residual\n",
    "    with torch.no_grad():\n",
    "        noise_pred = unet(latent_model_input, t, encoder_hidden_states=text_embeddings).sample\n",
    "\n",
    "    # perform guidance\n",
    "    noise_pred_uncond, noise_pred_text = noise_pred.chunk(2)\n",
    "    noise_pred = noise_pred_uncond + guidance_scale * (noise_pred_text - noise_pred_uncond)\n",
    "\n",
    "    # compute the previous noisy sample x_t -> x_t-1\n",
    "    latents = scheduler.step(noise_pred, t, latents).prev_sample"
   ]
  },
  {
   "cell_type": "code",
   "execution_count": 6,
   "metadata": {},
   "outputs": [],
   "source": [
    "#decode the image\n",
    "#final step is to use the vae to decode the latent representation\n",
    "#into an image and get the decoded output with sample\n",
    "\n",
    "#scale and decode the image latents with vae\n",
    "latents=1/0.18215*latents\n",
    "with torch.no_grad():\n",
    "    image=vae.decode(latents).sample\n",
    "\n",
    "#convert image to a PIL.Image to show\n",
    "image=(image/2+0.5).clamp(0,1).squeeze()\n",
    "image=(image.permute(1,2,0)*255).to(torch.uint8).cpu().numpy()\n",
    "image=Image.fromarray(image)\n",
    "image.show()"
   ]
  },
  {
   "cell_type": "code",
   "execution_count": null,
   "metadata": {},
   "outputs": [],
   "source": [
    "#The loop should set the scheduler’s timesteps, \n",
    "# iterate over them, and alternate between calling \n",
    "# the UNet model to predict the noise residual and \n",
    "# passing it to the scheduler to compute the previous \n",
    "# noisy sample."
   ]
  }
 ],
 "metadata": {
  "kernelspec": {
   "display_name": "diff",
   "language": "python",
   "name": "python3"
  },
  "language_info": {
   "codemirror_mode": {
    "name": "ipython",
    "version": 3
   },
   "file_extension": ".py",
   "mimetype": "text/x-python",
   "name": "python",
   "nbconvert_exporter": "python",
   "pygments_lexer": "ipython3",
   "version": "3.8.19"
  }
 },
 "nbformat": 4,
 "nbformat_minor": 2
}
