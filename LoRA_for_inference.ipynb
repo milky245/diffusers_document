{
 "cells": [
  {
   "cell_type": "code",
   "execution_count": null,
   "metadata": {},
   "outputs": [],
   "source": [
    "from diffusers import DiffusionPipeline\n",
    "import torch\n",
    "\n",
    "pipe_id = \"stabilityai/sdxl-turbo\"\n",
    "pipe = DiffusionPipeline.from_pretrained(pipe_id, torch_dtype=torch.float16).to(\"cuda\")\n",
    "\n",
    "pipe.load_lora_weights(\"CiroN2022/toy-face\", weight_name=\"toy_face_sdxl.safetensors\", adapter_name=\"toy\")\n",
    "\n",
    "prompt = \"toy_face of a hacker with a hoodie\"\n",
    "\n",
    "lora_scale = 0.9\n",
    "image = pipe(\n",
    "    prompt, num_inference_steps=30, cross_attention_kwargs={\"scale\": lora_scale}, generator=torch.manual_seed(0)\n",
    ").images[0]\n",
    "image"
   ]
  }
 ],
 "metadata": {
  "language_info": {
   "name": "python"
  }
 },
 "nbformat": 4,
 "nbformat_minor": 2
}
